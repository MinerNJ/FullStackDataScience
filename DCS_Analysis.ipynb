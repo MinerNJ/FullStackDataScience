{
 "cells": [
  {
   "cell_type": "code",
   "execution_count": 1,
   "metadata": {},
   "outputs": [],
   "source": [
    "from sklearn.model_selection import train_test_split\n",
    "from sklearn.linear_model import LogisticRegression\n",
    "from sklearn.metrics import confusion_matrix\n",
    "import numpy as np\n",
    "import h5py\n",
    "import os\n",
    "import json\n",
    "import pickle\n",
    "import seaborn as sns\n",
    "import matplotlib.pyplot as plt"
   ]
  },
  {
   "cell_type": "code",
   "execution_count": 2,
   "metadata": {},
   "outputs": [],
   "source": [
    "config={\n",
    "    \"model\"           : \"vgg16\",\n",
    "    \"weights\"         : \"imagenet\",\n",
    "    \n",
    "    \"features_path\"   : \"C:\\\\Users\\\\nickm\\\\PythonProjects\\\\FullStackDataScience\\\\car_damage_severity\\\\features.h5\",\n",
    "    \"labels_path\"     : \"C:\\\\Users\\\\nickm\\\\PythonProjects\\\\FullStackDataScience\\\\car_damage_severity\\\\labels.h5\",\n",
    "    \"classifier_path\" : \"C:\\\\Users\\\\nickm\\\\PythonProjects\\\\FullStackDataScience\\\\car_damage_severity\\\\classifier.pickle\",\n",
    "    \"model_path\"      : \"C:\\\\Users\\\\nickm\\\\PythonProjects\\\\FullStackDataScience\\\\car_damage_severity\\\\model\",\n",
    "    \n",
    "    \"test_size\"       : 0.20,\n",
    "    \"seed\"            : 9,\n",
    "}"
   ]
  },
  {
   "cell_type": "code",
   "execution_count": 3,
   "metadata": {},
   "outputs": [],
   "source": [
    "import warnings\n",
    "warnings.simplefilter(action=\"ignore\", category=FutureWarning)"
   ]
  },
  {
   "cell_type": "code",
   "execution_count": 4,
   "metadata": {},
   "outputs": [],
   "source": [
    "seed = config[\"seed\"]\n",
    "features_path = config[\"features_path\"]\n",
    "labels_path = config[\"labels_path\"]\n",
    "test_size = config[\"test_size\"]\n",
    "classifier_path = config[\"classifier_path\"]"
   ]
  },
  {
   "cell_type": "code",
   "execution_count": 5,
   "metadata": {},
   "outputs": [],
   "source": [
    "#importing features and labels.\n",
    "h5f_data = h5py.File(features_path, 'r')\n",
    "h5f_label = h5py.File(labels_path, 'r')\n",
    "\n",
    "features_string = h5f_data['dataset_1']\n",
    "labels_string = h5f_label['dataset_1']\n",
    "\n",
    "features = np.array(features_string)\n",
    "labels = np.array(labels_string)\n",
    "\n",
    "h5f_data.close()\n",
    "h5f_label.close()"
   ]
  },
  {
   "cell_type": "code",
   "execution_count": 6,
   "metadata": {},
   "outputs": [
    {
     "name": "stdout",
     "output_type": "stream",
     "text": [
      "[INFO] features shape: (979, 4096)\n",
      "[INFO] labels shape: (979,)\n",
      "[INFO] training started...\n",
      "[INFO] Splitting training and test data.\n",
      "[INFO] training data   : (783, 4096)\n",
      "[INFO] test data       : (196, 4096)\n",
      "[INFO] training labels : (783,)\n",
      "[INFO] test labels     : (196,)\n"
     ]
    }
   ],
   "source": [
    "#verifying the shape of features and labels.\n",
    "print(\"[INFO] features shape: {}\".format(features.shape))\n",
    "print(\"[INFO] labels shape: {}\".format(labels.shape))\n",
    "\n",
    "print(\"[INFO] training started...\")\n",
    "#splitting data into training and test sets.\n",
    "(trainData, testData, trainLabels, testLabels) = train_test_split(np.array(features),\n",
    "                                                                 np.array(labels),\n",
    "                                                                 test_size=test_size,\n",
    "                                                                 random_state=seed)\n",
    "\n",
    "print(\"[INFO] Splitting training and test data.\")\n",
    "print(\"[INFO] training data   : {}\".format(trainData.shape))\n",
    "print(\"[INFO] test data       : {}\".format(testData.shape))\n",
    "print(\"[INFO] training labels : {}\".format(trainLabels.shape))\n",
    "print(\"[INFO] test labels     : {}\".format(testLabels.shape))\n"
   ]
  },
  {
   "cell_type": "code",
   "execution_count": 7,
   "metadata": {},
   "outputs": [
    {
     "name": "stdout",
     "output_type": "stream",
     "text": [
      "[INFO] creating model...\n"
     ]
    },
    {
     "data": {
      "text/plain": [
       "LogisticRegression(C=1.0, class_weight=None, dual=False, fit_intercept=True,\n",
       "                   intercept_scaling=1, l1_ratio=None, max_iter=100,\n",
       "                   multi_class='warn', n_jobs=None, penalty='l2',\n",
       "                   random_state=9, solver='warn', tol=0.0001, verbose=0,\n",
       "                   warm_start=False)"
      ]
     },
     "execution_count": 7,
     "metadata": {},
     "output_type": "execute_result"
    }
   ],
   "source": [
    "##using logistic regression as the model\n",
    "print(\"[INFO] creating model...\")\n",
    "model = LogisticRegression(random_state=seed)\n",
    "model.fit(trainData, trainLabels)"
   ]
  },
  {
   "cell_type": "code",
   "execution_count": 8,
   "metadata": {},
   "outputs": [
    {
     "data": {
      "text/plain": [
       "array([1, 0, 2, 1, 2, 2, 2, 1, 2, 2, 2, 1, 2, 2, 2, 1, 2, 0, 0, 1, 2, 1,\n",
       "       1, 1, 2, 0, 0, 1, 0, 1, 2, 2, 0, 0, 2, 2, 2, 1, 0, 2, 0, 2, 1, 1,\n",
       "       2, 2, 2, 2, 1, 1, 2, 2, 2, 2, 1, 2, 1, 1, 1, 2, 0, 2, 0, 1, 2, 0,\n",
       "       2, 2, 2, 2, 0, 2, 1, 1, 2, 1, 2, 0, 0, 2, 1, 1, 2, 0, 1, 2, 2, 2,\n",
       "       0, 2, 0, 0, 1, 2, 2, 0, 2, 2, 2, 0, 2, 1, 1, 2, 2, 2, 0, 0, 1, 2,\n",
       "       0, 0, 0, 2, 2, 2, 2, 2, 0, 0, 2, 0, 0, 2, 1, 1, 1, 1, 1, 2, 2, 2,\n",
       "       0, 1, 1, 1, 0, 1, 2, 1, 1, 2, 0, 0, 2, 2, 1, 1, 0, 2, 2, 0, 2, 2,\n",
       "       1, 1, 2, 1, 2, 2, 2, 2, 1, 0, 1, 1, 2, 2, 2, 2, 2, 2, 0, 0, 1, 2,\n",
       "       2, 2, 1, 2, 1, 1, 1, 2, 2, 2, 1, 0, 2, 1, 2, 1, 2, 0, 1, 2],\n",
       "      dtype=int64)"
      ]
     },
     "execution_count": 8,
     "metadata": {},
     "output_type": "execute_result"
    }
   ],
   "source": [
    "##evaluating the model on test data\n",
    "preds = model.predict(testData)\n",
    "preds"
   ]
  },
  {
   "cell_type": "code",
   "execution_count": 11,
   "metadata": {},
   "outputs": [
    {
     "data": {
      "text/plain": [
       "(196,)"
      ]
     },
     "execution_count": 11,
     "metadata": {},
     "output_type": "execute_result"
    }
   ],
   "source": [
    "preds.shape"
   ]
  },
  {
   "cell_type": "code",
   "execution_count": 9,
   "metadata": {},
   "outputs": [
    {
     "name": "stdout",
     "output_type": "stream",
     "text": [
      "[INFO] saving model...\n"
     ]
    }
   ],
   "source": [
    "#dump classifier to file\n",
    "print(\"[INFO] saving model...\")\n",
    "pickle.dump(model, open(classifier_path, 'wb'))"
   ]
  },
  {
   "cell_type": "code",
   "execution_count": 10,
   "metadata": {},
   "outputs": [
    {
     "data": {
      "text/plain": [
       "array([[32, 15,  3],\n",
       "       [ 8, 31, 21],\n",
       "       [ 2, 13, 71]], dtype=int64)"
      ]
     },
     "execution_count": 10,
     "metadata": {},
     "output_type": "execute_result"
    }
   ],
   "source": [
    "#creating confusion matrix\n",
    "cm = confusion_matrix(testLabels, preds)\n",
    "cm"
   ]
  },
  {
   "cell_type": "code",
   "execution_count": 12,
   "metadata": {},
   "outputs": [
    {
     "data": {
      "text/plain": [
       "68.36734693877551"
      ]
     },
     "execution_count": 12,
     "metadata": {},
     "output_type": "execute_result"
    }
   ],
   "source": [
    "accuracy = ((32+31+71)/196)*100\n",
    "accuracy"
   ]
  },
  {
   "cell_type": "code",
   "execution_count": 17,
   "metadata": {},
   "outputs": [
    {
     "data": {
      "image/png": "[encoded data removed]",
      "text/plain": [
       "<Figure size 432x288 with 2 Axes>"
      ]
     },
     "metadata": {
      "needs_background": "light"
     },
     "output_type": "display_data"
    }
   ],
   "source": [
    "#plotting confusion matrix\n",
    "sns.heatmap(cm,\n",
    "           annot=True,\n",
    "           cmap=\"Set2\")\n",
    "plt.show()"
   ]
  },
  {
   "cell_type": "code",
   "execution_count": null,
   "metadata": {},
   "outputs": [],
   "source": []
  }
 ],
 "metadata": {
  "kernelspec": {
   "display_name": "Python 3",
   "language": "python",
   "name": "python3"
  },
  "language_info": {
   "codemirror_mode": {
    "name": "ipython",
    "version": 3
   },
   "file_extension": ".py",
   "mimetype": "text/x-python",
   "name": "python",
   "nbconvert_exporter": "python",
   "pygments_lexer": "ipython3",
   "version": "3.7.3"
  }
 },
 "nbformat": 4,
 "nbformat_minor": 2
}

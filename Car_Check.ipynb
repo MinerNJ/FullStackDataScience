{
 "cells": [
  {
   "cell_type": "code",
   "execution_count": 2,
   "metadata": {},
   "outputs": [
    {
     "name": "stderr",
     "output_type": "stream",
     "text": [
      "Using TensorFlow backend.\n"
     ]
    }
   ],
   "source": [
    "import numpy as np\n",
    "import json\n",
    "\n",
    "from keras.applications.vgg16 import VGG16\n",
    "from keras.preprocessing.image import img_to_array, load_img\n",
    "from keras.applications.imagenet_utils import preprocess_input"
   ]
  },
  {
   "cell_type": "code",
   "execution_count": 3,
   "metadata": {},
   "outputs": [
    {
     "name": "stderr",
     "output_type": "stream",
     "text": [
      "WARNING: Logging before flag parsing goes to stderr.\n",
      "W0714 13:40:55.097248 15072 deprecation_wrapper.py:119] From c:\\users\\nickm\\appdata\\local\\programs\\python\\python37\\lib\\site-packages\\keras\\backend\\tensorflow_backend.py:74: The name tf.get_default_graph is deprecated. Please use tf.compat.v1.get_default_graph instead.\n",
      "\n",
      "W0714 13:40:55.111248 15072 deprecation_wrapper.py:119] From c:\\users\\nickm\\appdata\\local\\programs\\python\\python37\\lib\\site-packages\\keras\\backend\\tensorflow_backend.py:517: The name tf.placeholder is deprecated. Please use tf.compat.v1.placeholder instead.\n",
      "\n",
      "W0714 13:40:55.113248 15072 deprecation_wrapper.py:119] From c:\\users\\nickm\\appdata\\local\\programs\\python\\python37\\lib\\site-packages\\keras\\backend\\tensorflow_backend.py:4138: The name tf.random_uniform is deprecated. Please use tf.random.uniform instead.\n",
      "\n",
      "W0714 13:40:55.132248 15072 deprecation_wrapper.py:119] From c:\\users\\nickm\\appdata\\local\\programs\\python\\python37\\lib\\site-packages\\keras\\backend\\tensorflow_backend.py:3976: The name tf.nn.max_pool is deprecated. Please use tf.nn.max_pool2d instead.\n",
      "\n",
      "W0714 13:40:56.535248 15072 deprecation_wrapper.py:119] From c:\\users\\nickm\\appdata\\local\\programs\\python\\python37\\lib\\site-packages\\keras\\backend\\tensorflow_backend.py:174: The name tf.get_default_session is deprecated. Please use tf.compat.v1.get_default_session instead.\n",
      "\n",
      "W0714 13:40:56.535248 15072 deprecation_wrapper.py:119] From c:\\users\\nickm\\appdata\\local\\programs\\python\\python37\\lib\\site-packages\\keras\\backend\\tensorflow_backend.py:181: The name tf.ConfigProto is deprecated. Please use tf.compat.v1.ConfigProto instead.\n",
      "\n"
     ]
    }
   ],
   "source": [
    "#Upload and save VGG16\n",
    "vgg16 = VGG16(weights = 'imagenet')\n",
    "vgg16.save('vgg16.h5')"
   ]
  },
  {
   "cell_type": "code",
   "execution_count": 7,
   "metadata": {},
   "outputs": [],
   "source": [
    "def prepare_image(img_path):\n",
    "    img = load_img(img_path, target_size=(224, 224))\n",
    "    x = img_to_array(img)\n",
    "    x = np.expand_dims(x, axis=0)\n",
    "    x = preprocess_input(x)\n",
    "    return x"
   ]
  },
  {
   "cell_type": "code",
   "execution_count": 8,
   "metadata": {},
   "outputs": [],
   "source": [
    "y = prepare_image(\"C:\\\\Users\\\\nickm\\\\Datasets\\\\car-damage-dataset\\\\car1.jpg\")"
   ]
  },
  {
   "cell_type": "code",
   "execution_count": 9,
   "metadata": {},
   "outputs": [],
   "source": [
    "preds = vgg16.predict(y)"
   ]
  },
  {
   "cell_type": "code",
   "execution_count": 10,
   "metadata": {},
   "outputs": [
    {
     "data": {
      "text/plain": [
       "(1, 1000)"
      ]
     },
     "execution_count": 10,
     "metadata": {},
     "output_type": "execute_result"
    }
   ],
   "source": [
    "preds.shape"
   ]
  },
  {
   "cell_type": "code",
   "execution_count": 11,
   "metadata": {},
   "outputs": [],
   "source": [
    "CLASS_INDEX = None"
   ]
  },
  {
   "cell_type": "code",
   "execution_count": 12,
   "metadata": {},
   "outputs": [],
   "source": [
    "CLASS_INDEX_PATH = (\"C:\\\\Users\\\\nickm\\\\PythonProjects\\\\FullStackDataScience\\\\imagenet_class_index.json\")"
   ]
  },
  {
   "cell_type": "code",
   "execution_count": 13,
   "metadata": {},
   "outputs": [],
   "source": [
    "def get_predictions(preds, top=5):\n",
    "    global CLASS_INDEX\n",
    "    \n",
    "    #load the json file\n",
    "    CLASS_INDEX = json.load(open(CLASS_INDEX_PATH))\n",
    "    \n",
    "    #get the results\n",
    "    results = []\n",
    "    for pred in preds:\n",
    "        top_indices = pred.argsort()[-top:][::-1]\n",
    "        result = [tuple(CLASS_INDEX[str(i)]) + (pred[i],) for i in top_indices]\n",
    "        result.sort(key=lambda x: x[2], reverse=True)\n",
    "        results.append(result)\n",
    "    return results"
   ]
  },
  {
   "cell_type": "code",
   "execution_count": 14,
   "metadata": {},
   "outputs": [
    {
     "name": "stdout",
     "output_type": "stream",
     "text": [
      "[[('n03770679', 'minivan', 0.23744562), ('n03930630', 'pickup', 0.10247658), ('n03594945', 'jeep', 0.09047775), ('n04461696', 'tow_truck', 0.077993274), ('n03345487', 'fire_engine', 0.06803713)]]\n"
     ]
    }
   ],
   "source": [
    "print(get_predictions(preds, top=5))"
   ]
  },
  {
   "cell_type": "code",
   "execution_count": 40,
   "metadata": {},
   "outputs": [],
   "source": [
    "from collections import Counter, defaultdict\n",
    "import os\n",
    "import pickle as pk"
   ]
  },
  {
   "cell_type": "code",
   "execution_count": 36,
   "metadata": {},
   "outputs": [],
   "source": [
    "def get_car_categories():\n",
    "    d = defaultdict(float)\n",
    "    img_list = os.listdir(\"C:\\\\Users\\\\nickm\\\\Datasets\\\\car-damage-dataset\\\\data1a\\\\training\\\\01-whole\")\n",
    "    for i, img_path in enumerate(img_list):\n",
    "        img = prepare_image(\"C:\\\\Users\\\\nickm\\\\Datasets\\\\car-damage-dataset\\\\data1a\\\\training\\\\01-whole\\\\\"+img_path)\n",
    "        out = vgg16.predict(img)\n",
    "        top = get_predictions(out, top=5)\n",
    "        for j in top[0]:\n",
    "            d[j[0:2]] += j[2]\n",
    "        if i % 100 == 0:\n",
    "                print(i, '/', len(img_list), 'complete')\n",
    "    return Counter(d)"
   ]
  },
  {
   "cell_type": "code",
   "execution_count": 37,
   "metadata": {},
   "outputs": [
    {
     "name": "stdout",
     "output_type": "stream",
     "text": [
      "0 / 920 complete\n",
      "100 / 920 complete\n",
      "200 / 920 complete\n",
      "300 / 920 complete\n",
      "400 / 920 complete\n",
      "500 / 920 complete\n",
      "600 / 920 complete\n",
      "700 / 920 complete\n",
      "800 / 920 complete\n",
      "900 / 920 complete\n"
     ]
    }
   ],
   "source": [
    "cat_counter=get_car_categories()"
   ]
  },
  {
   "cell_type": "code",
   "execution_count": 38,
   "metadata": {},
   "outputs": [
    {
     "data": {
      "text/plain": [
       "Counter({('n04252225', 'snowplow'): 7.214712330314796,\n",
       "         ('n03478589', 'half_track'): 0.9229720146395266,\n",
       "         ('n03126707', 'crane'): 0.12060468643903732,\n",
       "         ('n04461696', 'tow_truck'): 18.459159269928932,\n",
       "         ('n03417042', 'garbage_truck'): 1.4169612447731197,\n",
       "         ('n02701002', 'ambulance'): 5.364399856189266,\n",
       "         ('n03977966', 'police_van'): 10.064514737401623,\n",
       "         ('n03345487', 'fire_engine'): 2.661024481523782,\n",
       "         ('n03670208', 'limousine'): 53.98529281327501,\n",
       "         ('n03594945', 'jeep'): 29.954810619237833,\n",
       "         ('n03930630', 'pickup'): 64.39177196170203,\n",
       "         ('n04467665', 'trailer_truck'): 3.2582269469858147,\n",
       "         ('n02814533', 'beach_wagon'): 67.72654119720391,\n",
       "         ('n03770679', 'minivan'): 131.2259159089299,\n",
       "         ('n02974003', 'car_wheel'): 17.08563916446292,\n",
       "         ('n03100240', 'convertible'): 91.87715667905286,\n",
       "         ('n03459775', 'grille'): 17.94024488402647,\n",
       "         ('n04285008', 'sports_car'): 116.47221479052678,\n",
       "         ('n04037443', 'racer'): 39.361733198253205,\n",
       "         ('n03769881', 'minibus'): 20.43825832143193,\n",
       "         ('n02930766', 'cab'): 17.479840339976363,\n",
       "         ('n03791053', 'motor_scooter'): 2.332303937524557,\n",
       "         ('n03891332', 'parking_meter'): 1.226438260404393,\n",
       "         ('n03782006', 'monitor'): 0.1309974640607834,\n",
       "         ('n03776460', 'mobile_home'): 2.0467460062354803,\n",
       "         ('n03995372', 'power_drill'): 0.12097437679767609,\n",
       "         ('n04517823', 'vacuum'): 0.9435856901109219,\n",
       "         ('n03485407', 'hand-held_computer'): 0.060345880687236786,\n",
       "         ('n03000684', 'chain_saw'): 0.3143959827721119,\n",
       "         ('n02965783', 'car_mirror'): 1.2959623578935862,\n",
       "         ('n03445924', 'golfcart'): 2.632229521404952,\n",
       "         ('n03649909', 'lawn_mower'): 1.2338965646922588,\n",
       "         ('n03796401', 'moving_van'): 15.043505903275218,\n",
       "         ('n03792972', 'mountain_tent'): 0.3273858055472374,\n",
       "         ('n04613696', 'yurt'): 0.4878506064414978,\n",
       "         ('n02917067', 'bullet_train'): 0.9868412539362907,\n",
       "         ('n03584829', 'iron'): 0.419766578823328,\n",
       "         ('n04273569', 'speedboat'): 0.047672223299741745,\n",
       "         ('n04252077', 'snowmobile'): 1.6355583127588034,\n",
       "         ('n02704792', 'amphibian'): 1.5281653883866966,\n",
       "         ('n03895866', 'passenger_car'): 0.15350173972547054,\n",
       "         ('n04009552', 'projector'): 0.1383127048611641,\n",
       "         ('n03666591', 'lighter'): 0.056863147765398026,\n",
       "         ('n04120489', 'running_shoe'): 0.46423493325710297,\n",
       "         ('n04254680', 'soccer_ball'): 0.1707438975572586,\n",
       "         ('n03127747', 'crash_helmet'): 0.7595285754650831,\n",
       "         ('n03623198', 'knee_pad'): 0.07474452257156372,\n",
       "         ('n03877845', 'palace'): 0.042195238173007965,\n",
       "         ('n03444034', 'go-kart'): 0.5923744514584541,\n",
       "         ('n04065272', 'recreational_vehicle'): 3.7640817794017494,\n",
       "         ('n02992529', 'cellular_telephone'): 0.07375359162688255,\n",
       "         ('n03777568', 'Model_T'): 0.8795800507068634,\n",
       "         ('n06874185', 'traffic_light'): 0.20723975077271461,\n",
       "         ('n03976467', 'Polaroid_camera'): 0.20489665865898132,\n",
       "         ('n04004767', 'printer'): 0.08139591664075851,\n",
       "         ('n09428293', 'seashore'): 0.03663244470953941,\n",
       "         ('n03032252', 'cinema'): 0.3099557012319565,\n",
       "         ('n04204347', 'shopping_cart'): 0.15282630547881126,\n",
       "         ('n03457902', 'greenhouse'): 0.09110495448112488,\n",
       "         ('n03899768', 'patio'): 0.06239350885152817,\n",
       "         ('n04487081', 'trolleybus'): 0.3998023699969053,\n",
       "         ('n04208210', 'shovel'): 0.007109520025551319,\n",
       "         ('n02860847', 'bobsled'): 0.5608560666441917,\n",
       "         ('n04069434', 'reflex_camera'): 0.048858851194381714,\n",
       "         ('n04286575', 'spotlight'): 0.03646465763449669,\n",
       "         ('n03710193', 'mailbox'): 0.10629292204976082,\n",
       "         ('n03496892', 'harvester'): 0.08244859427213669,\n",
       "         ('n03384352', 'forklift'): 0.1356636956334114,\n",
       "         ('n03967562', 'plow'): 0.024308420717716217,\n",
       "         ('n04465501', 'tractor'): 0.05912875384092331,\n",
       "         ('n04146614', 'school_bus'): 0.023228758946061134,\n",
       "         ('n04404412', 'television'): 0.14801359176635742,\n",
       "         ('n04456115', 'torch'): 0.23441506922245026,\n",
       "         ('n02782093', 'balloon'): 0.11153031885623932,\n",
       "         ('n03355925', 'flagpole'): 0.09255718067288399,\n",
       "         ('n03662601', 'lifeboat'): 0.1389797180891037,\n",
       "         ('n04133789', 'sandal'): 0.04252401366829872,\n",
       "         ('n02971356', 'carton'): 0.03768029808998108,\n",
       "         ('n06794110', 'street_sign'): 0.039033323526382446,\n",
       "         ('n02776631', 'bakery'): 0.059032946825027466,\n",
       "         ('n03425413', 'gas_pump'): 0.03492274880409241,\n",
       "         ('n03344393', 'fireboat'): 0.05496622249484062,\n",
       "         ('n09193705', 'alp'): 0.08094168454408646,\n",
       "         ('n03197337', 'digital_watch'): 0.11927158385515213,\n",
       "         ('n04542943', 'waffle_iron'): 0.23429445922374725,\n",
       "         ('n03785016', 'moped'): 0.13793186843395233,\n",
       "         ('n04204238', 'shopping_basket'): 0.033938828855752945,\n",
       "         ('n04265275', 'space_heater'): 0.04082421585917473,\n",
       "         ('n04355338', 'sundial'): 0.12204379588365555,\n",
       "         ('n02950826', 'cannon'): 0.06745348125696182,\n",
       "         ('n04356056', 'sunglasses'): 0.02678658813238144,\n",
       "         ('n04335435', 'streetcar'): 0.4386584758758545,\n",
       "         ('n02747177', 'ashcan'): 0.18024206161499023,\n",
       "         ('n02988304', 'CD_player'): 0.08153025060892105,\n",
       "         ('n01833805', 'hummingbird'): 0.5797390341758728,\n",
       "         ('n03187595', 'dial_telephone'): 0.019941437989473343,\n",
       "         ('n04258138', 'solar_dish'): 0.3904115855693817,\n",
       "         ('n04049303', 'rain_barrel'): 0.027052653953433037})"
      ]
     },
     "execution_count": 38,
     "metadata": {},
     "output_type": "execute_result"
    }
   ],
   "source": [
    "cat_counter"
   ]
  },
  {
   "cell_type": "code",
   "execution_count": 41,
   "metadata": {},
   "outputs": [],
   "source": [
    "with open('cat_counter.pk', 'wb') as f:\n",
    "    pk.dump(cat_counter,f,-1)"
   ]
  },
  {
   "cell_type": "code",
   "execution_count": 43,
   "metadata": {},
   "outputs": [],
   "source": [
    "cat_list = [k for k, v in cat_counter.most_common()[:27]]"
   ]
  },
  {
   "cell_type": "code",
   "execution_count": 44,
   "metadata": {},
   "outputs": [
    {
     "data": {
      "text/plain": [
       "[('n03770679', 'minivan'),\n",
       " ('n04285008', 'sports_car'),\n",
       " ('n03100240', 'convertible'),\n",
       " ('n02814533', 'beach_wagon'),\n",
       " ('n03930630', 'pickup'),\n",
       " ('n03670208', 'limousine'),\n",
       " ('n04037443', 'racer'),\n",
       " ('n03594945', 'jeep'),\n",
       " ('n03769881', 'minibus'),\n",
       " ('n04461696', 'tow_truck'),\n",
       " ('n03459775', 'grille'),\n",
       " ('n02930766', 'cab'),\n",
       " ('n02974003', 'car_wheel'),\n",
       " ('n03796401', 'moving_van'),\n",
       " ('n03977966', 'police_van'),\n",
       " ('n04252225', 'snowplow'),\n",
       " ('n02701002', 'ambulance'),\n",
       " ('n04065272', 'recreational_vehicle'),\n",
       " ('n04467665', 'trailer_truck'),\n",
       " ('n03345487', 'fire_engine'),\n",
       " ('n03445924', 'golfcart'),\n",
       " ('n03791053', 'motor_scooter'),\n",
       " ('n03776460', 'mobile_home'),\n",
       " ('n04252077', 'snowmobile'),\n",
       " ('n02704792', 'amphibian'),\n",
       " ('n03417042', 'garbage_truck'),\n",
       " ('n02965783', 'car_mirror')]"
      ]
     },
     "execution_count": 44,
     "metadata": {},
     "output_type": "execute_result"
    }
   ],
   "source": [
    "cat_list"
   ]
  },
  {
   "cell_type": "markdown",
   "metadata": {},
   "source": [
    "# Car Checker"
   ]
  },
  {
   "cell_type": "code",
   "execution_count": 49,
   "metadata": {},
   "outputs": [],
   "source": [
    "def car_categories_gate(image_path, cat_list):\n",
    "    img = prepare_image(image_path)\n",
    "    out = vgg16.predict(img)\n",
    "    top = get_predictions(out, top=5)\n",
    "    print(\"Validating the picture of your car...\")\n",
    "    for j in top[0]:\n",
    "        if j[0:2] in cat_list:\n",
    "            print(j[0:2])\n",
    "            return \"Validation complete - proceeding to damage evaluation.\"\n",
    "    return \"Please try another picture of your car from a different angle or with different lighting.\""
   ]
  },
  {
   "cell_type": "code",
   "execution_count": 46,
   "metadata": {},
   "outputs": [
    {
     "name": "stdout",
     "output_type": "stream",
     "text": [
      "Validating that this is a picture of your car...\n",
      "('n03770679', 'minivan')\n"
     ]
    },
    {
     "data": {
      "text/plain": [
       "'Validation complete - proceeding to damage evaluation.'"
      ]
     },
     "execution_count": 46,
     "metadata": {},
     "output_type": "execute_result"
    }
   ],
   "source": [
    "car_categories_gate(\"C:\\\\Users\\\\nickm\\\\Datasets\\\\car-damage-dataset\\\\car1.jpg\", cat_list)"
   ]
  },
  {
   "cell_type": "code",
   "execution_count": null,
   "metadata": {},
   "outputs": [],
   "source": []
  }
 ],
 "metadata": {
  "kernelspec": {
   "display_name": "Python 3",
   "language": "python",
   "name": "python3"
  },
  "language_info": {
   "codemirror_mode": {
    "name": "ipython",
    "version": 3
   },
   "file_extension": ".py",
   "mimetype": "text/x-python",
   "name": "python",
   "nbconvert_exporter": "python",
   "pygments_lexer": "ipython3",
   "version": "3.7.3"
  }
 },
 "nbformat": 4,
 "nbformat_minor": 2
}

{
 "cells": [
  {
   "cell_type": "code",
   "execution_count": 1,
   "metadata": {},
   "outputs": [
    {
     "name": "stderr",
     "output_type": "stream",
     "text": [
      "Using TensorFlow backend.\n"
     ]
    }
   ],
   "source": [
    "#Importing libraries and packages\n",
    "\n",
    "import os \n",
    "import json\n",
    "\n",
    "from keras.preprocessing.image import img_to_array, load_img\n",
    "from keras.utils.data_utils import get_file\n",
    "from keras.applications.vgg16 import VGG16, preprocess_input\n",
    "from keras.preprocessing import image\n",
    "from keras.models import Model\n",
    "\n",
    "import h5py\n",
    "import numpy as np\n",
    "import pickle as pk"
   ]
  },
  {
   "cell_type": "code",
   "execution_count": 2,
   "metadata": {},
   "outputs": [],
   "source": [
    "import warnings\n",
    "warnings.filterwarnings('ignore')"
   ]
  },
  {
   "cell_type": "code",
   "execution_count": 3,
   "metadata": {},
   "outputs": [
    {
     "name": "stderr",
     "output_type": "stream",
     "text": [
      "WARNING: Logging before flag parsing goes to stderr.\n",
      "W0714 15:32:37.110555 12532 deprecation_wrapper.py:119] From c:\\users\\nickm\\appdata\\local\\programs\\python\\python37\\lib\\site-packages\\keras\\backend\\tensorflow_backend.py:74: The name tf.get_default_graph is deprecated. Please use tf.compat.v1.get_default_graph instead.\n",
      "\n",
      "W0714 15:32:37.123531 12532 deprecation_wrapper.py:119] From c:\\users\\nickm\\appdata\\local\\programs\\python\\python37\\lib\\site-packages\\keras\\backend\\tensorflow_backend.py:517: The name tf.placeholder is deprecated. Please use tf.compat.v1.placeholder instead.\n",
      "\n",
      "W0714 15:32:37.125570 12532 deprecation_wrapper.py:119] From c:\\users\\nickm\\appdata\\local\\programs\\python\\python37\\lib\\site-packages\\keras\\backend\\tensorflow_backend.py:4138: The name tf.random_uniform is deprecated. Please use tf.random.uniform instead.\n",
      "\n",
      "W0714 15:32:37.144534 12532 deprecation_wrapper.py:119] From c:\\users\\nickm\\appdata\\local\\programs\\python\\python37\\lib\\site-packages\\keras\\backend\\tensorflow_backend.py:3976: The name tf.nn.max_pool is deprecated. Please use tf.nn.max_pool2d instead.\n",
      "\n",
      "W0714 15:32:38.546567 12532 deprecation_wrapper.py:119] From c:\\users\\nickm\\appdata\\local\\programs\\python\\python37\\lib\\site-packages\\keras\\backend\\tensorflow_backend.py:174: The name tf.get_default_session is deprecated. Please use tf.compat.v1.get_default_session instead.\n",
      "\n",
      "W0714 15:32:38.546567 12532 deprecation_wrapper.py:119] From c:\\users\\nickm\\appdata\\local\\programs\\python\\python37\\lib\\site-packages\\keras\\backend\\tensorflow_backend.py:181: The name tf.ConfigProto is deprecated. Please use tf.compat.v1.ConfigProto instead.\n",
      "\n"
     ]
    }
   ],
   "source": [
    "#Loading Models for comparison\n",
    "first_check = VGG16(weights='imagenet') #is it a car?\n",
    "second_check = pk.load(open(\"C:\\\\Users\\\\nickm\\\\PythonProjects\\\\FullStackDataScience\\\\car_damage_check\\\\classifier.pickle\", 'rb')) #if yes, is it damaged?\n",
    "third_check = pk.load(open(\"C:\\\\Users\\\\nickm\\\\PythonProjects\\\\FullStackDataScience\\\\car_damage_directional\\\\classifier.pickle\", 'rb'))#if yes, where?\n",
    "fourth_check = pk.load(open(\"C:\\\\Users\\\\nickm\\\\PythonProjects\\\\FullStackDataScience\\\\car_damage_severity\\\\classifier.pickle\", 'rb'))#if yes, how badly?"
   ]
  },
  {
   "cell_type": "code",
   "execution_count": 4,
   "metadata": {},
   "outputs": [],
   "source": [
    "#Loading valid categories for identifying cars using VGG16\n",
    "with open('cat_counter.pk', 'rb') as f:\n",
    "    cat_counter = pk.load(f)"
   ]
  },
  {
   "cell_type": "code",
   "execution_count": 5,
   "metadata": {},
   "outputs": [],
   "source": [
    "cat_list = [k for k, v in cat_counter.most_common()[:27]]"
   ]
  },
  {
   "cell_type": "code",
   "execution_count": 17,
   "metadata": {},
   "outputs": [
    {
     "data": {
      "text/plain": [
       "[('n03770679', 'minivan'),\n",
       " ('n04285008', 'sports_car'),\n",
       " ('n03100240', 'convertible'),\n",
       " ('n02814533', 'beach_wagon'),\n",
       " ('n03930630', 'pickup'),\n",
       " ('n03670208', 'limousine'),\n",
       " ('n04037443', 'racer'),\n",
       " ('n03594945', 'jeep'),\n",
       " ('n03769881', 'minibus'),\n",
       " ('n04461696', 'tow_truck'),\n",
       " ('n03459775', 'grille'),\n",
       " ('n02930766', 'cab'),\n",
       " ('n02974003', 'car_wheel'),\n",
       " ('n03796401', 'moving_van'),\n",
       " ('n03977966', 'police_van'),\n",
       " ('n04252225', 'snowplow'),\n",
       " ('n02701002', 'ambulance'),\n",
       " ('n04065272', 'recreational_vehicle'),\n",
       " ('n04467665', 'trailer_truck'),\n",
       " ('n03345487', 'fire_engine'),\n",
       " ('n03445924', 'golfcart'),\n",
       " ('n03791053', 'motor_scooter'),\n",
       " ('n03776460', 'mobile_home'),\n",
       " ('n04252077', 'snowmobile'),\n",
       " ('n02704792', 'amphibian'),\n",
       " ('n03417042', 'garbage_truck'),\n",
       " ('n02965783', 'car_mirror')]"
      ]
     },
     "execution_count": 17,
     "metadata": {},
     "output_type": "execute_result"
    }
   ],
   "source": [
    "cat_list"
   ]
  },
  {
   "cell_type": "markdown",
   "metadata": {},
   "source": [
    "# Car Check"
   ]
  },
  {
   "cell_type": "code",
   "execution_count": 6,
   "metadata": {},
   "outputs": [],
   "source": [
    "CLASS_INDEX = None"
   ]
  },
  {
   "cell_type": "code",
   "execution_count": 7,
   "metadata": {},
   "outputs": [],
   "source": [
    "CLASS_INDEX_PATH = \"C:\\\\Users\\\\nickm\\\\PythonProjects\\\\FullStackDataScience\\\\imagenet_class_index.json\""
   ]
  },
  {
   "cell_type": "code",
   "execution_count": 8,
   "metadata": {},
   "outputs": [],
   "source": [
    "def get_predictions(preds, top=5):\n",
    "    global CLASS_INDEX\n",
    "    \n",
    "    #load json file\n",
    "    CLASS_INDEX = json.load(open(CLASS_INDEX_PATH))\n",
    "        \n",
    "    results = []\n",
    "    for pred in preds:\n",
    "        top_indices = pred.argsort()[-top:][::-1]\n",
    "        result = [tuple(CLASS_INDEX[str(i)]) + (pred[i],) for i in top_indices]\n",
    "        result.sort(key=lambda x: x[2], reverse=True)\n",
    "        results.append(result)\n",
    "    return results"
   ]
  },
  {
   "cell_type": "code",
   "execution_count": 9,
   "metadata": {},
   "outputs": [],
   "source": [
    "def prepare_img_224(img_path):\n",
    "    img = load_img(img_path, target_size=(224, 224))\n",
    "    x = img_to_array(img)\n",
    "    x = np.expand_dims(x, axis=0)\n",
    "    x = preprocess_input(x)\n",
    "    return x"
   ]
  },
  {
   "cell_type": "code",
   "execution_count": 36,
   "metadata": {},
   "outputs": [],
   "source": [
    "def car_categories_check(img_224, model):\n",
    "    print (\"Validating the picture of your car...\")\n",
    "    out = model.predict(img_224)\n",
    "    top = get_predictions(out, top=5)\n",
    "    for j in top[0]:\n",
    "        if j[0:2] in cat_list:\n",
    "            print(\"Car check passed. Proceeding to damage detector.\")\n",
    "            print(\"\\n\")\n",
    "            return True\n",
    "    return False\n",
    "    "
   ]
  },
  {
   "cell_type": "markdown",
   "metadata": {},
   "source": [
    "# Damage Check"
   ]
  },
  {
   "cell_type": "code",
   "execution_count": 37,
   "metadata": {},
   "outputs": [],
   "source": [
    "def car_damage_check(classifier):\n",
    "    print(\"Checking for damage...\")\n",
    "    base_model = first_check\n",
    "    train_labels = ['Damaged', 'Not Damaged']\n",
    "    \n",
    "    model = Model(inputs=base_model.input, outputs=base_model.get_layer('fc1').output)\n",
    "    image_size = (224, 224)\n",
    "    img = image.load_img(img_path, target_size=image_size)\n",
    "    x = image.img_to_array(img)\n",
    "    x = np.expand_dims(x, axis=0)\n",
    "    x = preprocess_input(x)\n",
    "    feature = model.predict(x)\n",
    "    flat = feature.flatten()\n",
    "    flat = np.expand_dims(flat, axis=0)\n",
    "    preds = classifier.predict(flat)\n",
    "    prediction = train_labels[preds[0]]\n",
    "    \n",
    "    if train_labels[preds[0]] == 'Damaged':\n",
    "        print(\"Damage check complete - proceeding to damage location and severity detector.\")\n",
    "        print(\"\\n\")\n",
    "        return True\n",
    "    else:\n",
    "        return False"
   ]
  },
  {
   "cell_type": "markdown",
   "metadata": {},
   "source": [
    "# Damage Locator"
   ]
  },
  {
   "cell_type": "code",
   "execution_count": 38,
   "metadata": {},
   "outputs": [],
   "source": [
    "def damage_locator(classifier):\n",
    "    print(\"Locating area damaged - front, side or rear.\")\n",
    "    base_model = first_check\n",
    "    train_labels = ['Front Damage', 'Side Damage', 'Rear Damage']\n",
    "    \n",
    "    model = Model(inputs=base_model.input, outputs=base_model.get_layer('fc1').output)\n",
    "    image_size = (224, 224)\n",
    "    img = image.load_img(img_path, target_size=image_size)\n",
    "    x = image.img_to_array(img)\n",
    "    x = np.expand_dims(x, axis=0)\n",
    "    x = preprocess_input(x)\n",
    "    feature = model.predict(x)\n",
    "    flat = feature.flatten()\n",
    "    flat = np.expand_dims(flat, axis=0)\n",
    "    preds = classifier.predict(flat)\n",
    "    prediction = train_labels[preds[0]]\n",
    "    \n",
    "    print(\"Your car is damaged at - \" + train_labels[preds[0]])\n",
    "    print(\"Damage location assessment complete.\")\n",
    "    print(\"\\n\")"
   ]
  },
  {
   "cell_type": "markdown",
   "metadata": {},
   "source": [
    "# Severity Assessment"
   ]
  },
  {
   "cell_type": "code",
   "execution_count": 39,
   "metadata": {},
   "outputs": [],
   "source": [
    "def severity_assessment(classifier):\n",
    "    print(\"Evaluating the severity of the damage.\")\n",
    "    base_model = first_check\n",
    "    train_labels = ['Minor Damage', 'Moderate Damage', 'Severe Damage']\n",
    "    \n",
    "    model = Model(inputs=base_model.input, outputs=base_model.get_layer('fc1').output)\n",
    "    image_size = (224, 224)\n",
    "    img = image.load_img(img_path, target_size=image_size)\n",
    "    x = image.img_to_array(img)\n",
    "    x = np.expand_dims(x, axis=0)\n",
    "    x = preprocess_input(x)\n",
    "    feature = model.predict(x)\n",
    "    flat = feature.flatten()\n",
    "    flat = np.expand_dims(flat, axis=0)\n",
    "    preds = classifier.predict(flat)\n",
    "    prediction = train_labels[preds[0]]\n",
    "    \n",
    "    print(\"The damage done to your car is rated as - \" + train_labels[preds[0]])\n",
    "    print(\"Damage severity estimate complete\")\n",
    "    print(\"\\n\")\n",
    "    print(\"Thanks for testing my model!\")"
   ]
  },
  {
   "cell_type": "markdown",
   "metadata": {},
   "source": [
    "# Engine"
   ]
  },
  {
   "cell_type": "code",
   "execution_count": 40,
   "metadata": {},
   "outputs": [],
   "source": [
    "def engine(img):\n",
    "    while True:\n",
    "        try:\n",
    "            img_224 = prepare_img_224(img)\n",
    "            g1 = car_categories_check(img_224, first_check)\n",
    "            \n",
    "            if g1 is False:\n",
    "                print(\"Could not recognize picture of car. Please submit a different picture.\")\n",
    "                print(\"Hint: try a different angle, different lighting, or zooming in/out.\")\n",
    "                print(\"Picture must be in .jpg format.\")\n",
    "                break\n",
    "                \n",
    "            g2 = car_damage_check(second_check)\n",
    "            \n",
    "            if g2 is False:\n",
    "                print(\"Could not recognize picture of car. Please submit a different picture.\")\n",
    "                print(\"Hint: try a different angle, different lighting, or zooming in/out.\")\n",
    "                print(\"Picture must be in .jpg format.\")\n",
    "                break\n",
    "                \n",
    "            x = damage_locator(third_check)\n",
    "            y = severity_assessment(fourth_check)\n",
    "            break\n",
    "        except:\n",
    "            print(\"Image not accessible. Please try again\")\n",
    "            break"
   ]
  },
  {
   "cell_type": "code",
   "execution_count": 41,
   "metadata": {},
   "outputs": [],
   "source": [
    "img_path = \"C:\\\\Users\\\\nickm\\\\Datasets\\\\car-damage-dataset\\\\car2.jpg\""
   ]
  },
  {
   "cell_type": "code",
   "execution_count": 42,
   "metadata": {},
   "outputs": [
    {
     "name": "stdout",
     "output_type": "stream",
     "text": [
      "Validating the picture of your car...\n",
      "Car check passed. Proceeding to damage detector.\n",
      "\n",
      "\n",
      "Checking for damage...\n",
      "Damage check complete - proceeding to damage location and severity detector.\n",
      "\n",
      "\n",
      "Locating area damaged - front, side or rear.\n",
      "Your car is damaged at - Front Damage\n",
      "Damage location assessment complete.\n",
      "\n",
      "\n",
      "Evaluating the severity of the damage.\n",
      "The damage done to your car is rated as - Moderate Damage\n",
      "Damage severity estimate complete\n",
      "\n",
      "\n",
      "Thanks for testing my model!\n"
     ]
    }
   ],
   "source": [
    "engine(img_path)"
   ]
  },
  {
   "cell_type": "code",
   "execution_count": null,
   "metadata": {},
   "outputs": [],
   "source": []
  }
 ],
 "metadata": {
  "kernelspec": {
   "display_name": "Python 3",
   "language": "python",
   "name": "python3"
  },
  "language_info": {
   "codemirror_mode": {
    "name": "ipython",
    "version": 3
   },
   "file_extension": ".py",
   "mimetype": "text/x-python",
   "name": "python",
   "nbconvert_exporter": "python",
   "pygments_lexer": "ipython3",
   "version": "3.7.3"
  }
 },
 "nbformat": 4,
 "nbformat_minor": 2
}
